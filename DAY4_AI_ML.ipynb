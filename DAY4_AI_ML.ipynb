{
 "cells": [
  {
   "cell_type": "code",
   "execution_count": null,
   "id": "c0378ae3-e6f5-4226-9076-c4a07dfdb0e8",
   "metadata": {},
   "outputs": [],
   "source": [
    "pip install scipy pandas"
   ]
  },
  {
   "cell_type": "code",
   "execution_count": 1,
   "id": "377a7518-996d-4599-8703-2e6df3d75768",
   "metadata": {},
   "outputs": [
    {
     "name": "stdout",
     "output_type": "stream",
     "text": [
      "Preview of the DataFrame:\n",
      "          W1066_FA_CTRL  W1077_FA_CTRL  W1083_FA_CTRL  W1123_FA_CTRL  \\\n",
      "1.006797       0.001146       0.001022       0.001065       0.000290   \n",
      "1.013402       0.008060       0.007399       0.007902       0.005325   \n",
      "1.020122       0.008168       0.007198       0.007206       0.005091   \n",
      "1.026795       0.008056       0.006595       0.008494       0.004291   \n",
      "1.033468       0.007397       0.006642       0.006917       0.004607   \n",
      "\n",
      "          W1428_FA_CTRL  W1438_FA_CTRL  W155_FA_CTRL  W372_FA_CTRL  \\\n",
      "1.006797       0.001124       0.000963      0.062883      0.085824   \n",
      "1.013402       0.008487       0.004290      0.013625      0.066713   \n",
      "1.020122       0.008468       0.004260      0.014471      0.058139   \n",
      "1.026795       0.008495       0.003945      0.016118      0.052531   \n",
      "1.033468       0.008856       0.004529      0.016118      0.050223   \n",
      "\n",
      "          W374_FA_CTRL  W376_FA_CTRL  ...  W1072_FA_CD  W1075_FA_CD  \\\n",
      "1.006797      0.091229      0.088009  ...     0.000959     0.000938   \n",
      "1.013402      0.070404      0.080444  ...     0.007868     0.008327   \n",
      "1.020122      0.059742      0.063510  ...     0.007240     0.007017   \n",
      "1.026795      0.049882      0.060064  ...     0.006666     0.007639   \n",
      "1.033468      0.050370      0.059269  ...     0.006549     0.006873   \n",
      "\n",
      "          W1084_FA_CD  W1090_FA_CD  W1117_FA_CD  W1122_FA_CD  W1125_FA_CD  \\\n",
      "1.006797     0.000957     0.000983     0.000537     0.000399     0.000379   \n",
      "1.013402     0.007631     0.008010     0.005699     0.006652     0.005779   \n",
      "1.020122     0.007270     0.007707     0.005379     0.006847     0.005582   \n",
      "1.026795     0.007158     0.007831     0.005128     0.006339     0.005560   \n",
      "1.033468     0.007956     0.007854     0.005482     0.006067     0.005017   \n",
      "\n",
      "          W1127_FA_CD  W303_FA_CD  W304_FA_CD  \n",
      "1.006797     0.000391    0.007560    0.006108  \n",
      "1.013402     0.006815    0.003477    0.002700  \n",
      "1.020122     0.006556    0.002263    0.002502  \n",
      "1.026795     0.006893    0.002543    0.002523  \n",
      "1.033468     0.006246    0.002625    0.002981  \n",
      "\n",
      "[5 rows x 23 columns]\n"
     ]
    }
   ],
   "source": [
    "# Import necessary libraries\n",
    "import pandas as pd\n",
    "from scipy.io import loadmat  # For reading .MAT files\n",
    "from bio720p import gcparser  # Import the provided gcparser function\n",
    "\n",
    "# Path to the .MAT file\n",
    "mat_file_path = \"BWG_FA_CDvCTRL.mat\"\n",
    "\n",
    "# Step 1: Load the data using loadmat from scipy\n",
    "mat_data = loadmat(mat_file_path)\n",
    "\n",
    "\n",
    "# Step 3: Process the data into a Pandas DataFrame using the gcparser function\n",
    "df = gcparser(mat_data)\n",
    "\n",
    "# Step 4: Display the first few rows of the DataFrame\n",
    "print(\"Preview of the DataFrame:\")\n",
    "print(df.head())\n"
   ]
  },
  {
   "cell_type": "code",
   "execution_count": 2,
   "id": "fb8be82d-be75-45eb-aae8-aca634019a30",
   "metadata": {},
   "outputs": [
    {
     "name": "stdout",
     "output_type": "stream",
     "text": [
      "<class 'pandas.core.frame.DataFrame'>\n",
      "Index: 4349 entries, 1.0067968368530273 to 29.998485565185547\n",
      "Data columns (total 23 columns):\n",
      " #   Column         Non-Null Count  Dtype  \n",
      "---  ------         --------------  -----  \n",
      " 0   W1066_FA_CTRL  4349 non-null   float64\n",
      " 1   W1077_FA_CTRL  4349 non-null   float64\n",
      " 2   W1083_FA_CTRL  4349 non-null   float64\n",
      " 3   W1123_FA_CTRL  4349 non-null   float64\n",
      " 4   W1428_FA_CTRL  4349 non-null   float64\n",
      " 5   W1438_FA_CTRL  4349 non-null   float64\n",
      " 6   W155_FA_CTRL   4349 non-null   float64\n",
      " 7   W372_FA_CTRL   4349 non-null   float64\n",
      " 8   W374_FA_CTRL   4349 non-null   float64\n",
      " 9   W376_FA_CTRL   4349 non-null   float64\n",
      " 10  W384_FA_CTRL   4349 non-null   float64\n",
      " 11  W385_FA_CTRL   4349 non-null   float64\n",
      " 12  W1069_FA_CD    4349 non-null   float64\n",
      " 13  W1072_FA_CD    4349 non-null   float64\n",
      " 14  W1075_FA_CD    4349 non-null   float64\n",
      " 15  W1084_FA_CD    4349 non-null   float64\n",
      " 16  W1090_FA_CD    4349 non-null   float64\n",
      " 17  W1117_FA_CD    4349 non-null   float64\n",
      " 18  W1122_FA_CD    4349 non-null   float64\n",
      " 19  W1125_FA_CD    4349 non-null   float64\n",
      " 20  W1127_FA_CD    4349 non-null   float64\n",
      " 21  W303_FA_CD     4349 non-null   float64\n",
      " 22  W304_FA_CD     4349 non-null   float64\n",
      "dtypes: float64(23)\n",
      "memory usage: 815.4 KB\n",
      "None\n"
     ]
    }
   ],
   "source": [
    "print(df.info())"
   ]
  },
  {
   "cell_type": "code",
   "execution_count": 3,
   "id": "585cb88b-c07c-4d72-b22c-f6fde3d3143e",
   "metadata": {},
   "outputs": [
    {
     "name": "stdout",
     "output_type": "stream",
     "text": [
      "Column names in the DataFrame: Index(['W1066_FA_CTRL', 'W1077_FA_CTRL', 'W1083_FA_CTRL', 'W1123_FA_CTRL',\n",
      "       'W1428_FA_CTRL', 'W1438_FA_CTRL', 'W155_FA_CTRL', 'W372_FA_CTRL',\n",
      "       'W374_FA_CTRL', 'W376_FA_CTRL', 'W384_FA_CTRL', 'W385_FA_CTRL',\n",
      "       'W1069_FA_CD', 'W1072_FA_CD', 'W1075_FA_CD', 'W1084_FA_CD',\n",
      "       'W1090_FA_CD', 'W1117_FA_CD', 'W1122_FA_CD', 'W1125_FA_CD',\n",
      "       'W1127_FA_CD', 'W303_FA_CD', 'W304_FA_CD'],\n",
      "      dtype='object')\n"
     ]
    }
   ],
   "source": [
    "# Display the column names\n",
    "print(\"Column names in the DataFrame:\", df.columns)\n",
    "\n",
    "# Assume columns are named 'RT' for retention time and other columns contain ion counts\n",
    "# Replace 'RT' and 'IonCounts' with actual column names\n",
    "retention_time_column = 'RT'\n",
    "intensity_columns = [col for col in df.columns if col.startswith('IonCount_')]\n"
   ]
  },
  {
   "cell_type": "code",
   "execution_count": 4,
   "id": "2fb4bb71-169d-4406-9f45-fbb7b0921515",
   "metadata": {},
   "outputs": [
    {
     "name": "stdout",
     "output_type": "stream",
     "text": [
      "          W1066_FA_CTRL  W1077_FA_CTRL  W1083_FA_CTRL  W1123_FA_CTRL  \\\n",
      "1.006797       0.001146       0.001022       0.001065       0.000290   \n",
      "1.013402       0.008060       0.007399       0.007902       0.005325   \n",
      "1.020122       0.008168       0.007198       0.007206       0.005091   \n",
      "1.026795       0.008056       0.006595       0.008494       0.004291   \n",
      "1.033468       0.007397       0.006642       0.006917       0.004607   \n",
      "\n",
      "          W1428_FA_CTRL  W1438_FA_CTRL  W155_FA_CTRL  W372_FA_CTRL  \\\n",
      "1.006797       0.001124       0.000963      0.062883      0.085824   \n",
      "1.013402       0.008487       0.004290      0.013625      0.066713   \n",
      "1.020122       0.008468       0.004260      0.014471      0.058139   \n",
      "1.026795       0.008495       0.003945      0.016118      0.052531   \n",
      "1.033468       0.008856       0.004529      0.016118      0.050223   \n",
      "\n",
      "          W374_FA_CTRL  W376_FA_CTRL  ...  W1072_FA_CD  W1075_FA_CD  \\\n",
      "1.006797      0.091229      0.088009  ...     0.000959     0.000938   \n",
      "1.013402      0.070404      0.080444  ...     0.007868     0.008327   \n",
      "1.020122      0.059742      0.063510  ...     0.007240     0.007017   \n",
      "1.026795      0.049882      0.060064  ...     0.006666     0.007639   \n",
      "1.033468      0.050370      0.059269  ...     0.006549     0.006873   \n",
      "\n",
      "          W1084_FA_CD  W1090_FA_CD  W1117_FA_CD  W1122_FA_CD  W1125_FA_CD  \\\n",
      "1.006797     0.000957     0.000983     0.000537     0.000399     0.000379   \n",
      "1.013402     0.007631     0.008010     0.005699     0.006652     0.005779   \n",
      "1.020122     0.007270     0.007707     0.005379     0.006847     0.005582   \n",
      "1.026795     0.007158     0.007831     0.005128     0.006339     0.005560   \n",
      "1.033468     0.007956     0.007854     0.005482     0.006067     0.005017   \n",
      "\n",
      "          W1127_FA_CD  W303_FA_CD  W304_FA_CD  \n",
      "1.006797     0.000391    0.007560    0.006108  \n",
      "1.013402     0.006815    0.003477    0.002700  \n",
      "1.020122     0.006556    0.002263    0.002502  \n",
      "1.026795     0.006893    0.002543    0.002523  \n",
      "1.033468     0.006246    0.002625    0.002981  \n",
      "\n",
      "[5 rows x 23 columns]\n",
      "Index(['W1066_FA_CTRL', 'W1077_FA_CTRL', 'W1083_FA_CTRL', 'W1123_FA_CTRL',\n",
      "       'W1428_FA_CTRL', 'W1438_FA_CTRL', 'W155_FA_CTRL', 'W372_FA_CTRL',\n",
      "       'W374_FA_CTRL', 'W376_FA_CTRL', 'W384_FA_CTRL', 'W385_FA_CTRL',\n",
      "       'W1069_FA_CD', 'W1072_FA_CD', 'W1075_FA_CD', 'W1084_FA_CD',\n",
      "       'W1090_FA_CD', 'W1117_FA_CD', 'W1122_FA_CD', 'W1125_FA_CD',\n",
      "       'W1127_FA_CD', 'W303_FA_CD', 'W304_FA_CD'],\n",
      "      dtype='object')\n"
     ]
    }
   ],
   "source": [
    "# Print a few rows to inspect the data\n",
    "print(df.head())\n",
    "\n",
    "# Check column names\n",
    "print(df.columns)\n"
   ]
  },
  {
   "cell_type": "code",
   "execution_count": 5,
   "id": "48390cb7-cb0c-4f21-bfd4-4c80ede6658b",
   "metadata": {},
   "outputs": [],
   "source": [
    "# Add a new column 'SampleType' and 'SampleName' for metadata\n",
    "df_meta = df.copy().T  # Transpose to process columns as rows\n",
    "df_meta['SampleType'] = df_meta.index.map(lambda x: 'CTRL' if 'CTRL' in x else 'CD')\n",
    "df_meta['SampleName'] = df_meta.index\n",
    "df_meta.reset_index(drop=True, inplace=True)\n"
   ]
  },
  {
   "cell_type": "code",
   "execution_count": 6,
   "id": "1ce474d0-8ca9-4010-8eab-61d621e55538",
   "metadata": {},
   "outputs": [],
   "source": [
    "# Transpose back to original\n",
    "df_transformed = df_meta.drop(columns=['SampleName', 'SampleType']).T\n",
    "df_transformed.columns = df_meta['SampleName']\n"
   ]
  },
  {
   "cell_type": "code",
   "execution_count": 7,
   "id": "0d580c19-4145-4f2d-953e-b3da020901a6",
   "metadata": {},
   "outputs": [
    {
     "data": {
      "image/png": "[encoded data removed]",
      "text/plain": [
       "<Figure size 1200x600 with 1 Axes>"
      ]
     },
     "metadata": {},
     "output_type": "display_data"
    }
   ],
   "source": [
    "import matplotlib.pyplot as plt\n",
    "\n",
    "# Filter CTRL and CD samples\n",
    "ctrl_columns = [col for col in df.columns if 'CTRL' in col]\n",
    "cd_columns = [col for col in df.columns if 'CD' in col]\n",
    "\n",
    "# Plot chromatograms for a subset of samples\n",
    "plt.figure(figsize=(12, 6))\n",
    "\n",
    "# Plot CTRL samples\n",
    "for col in ctrl_columns[:3]:  # Take first 3 CTRL samples\n",
    "    plt.plot(df.index, df[col], label=f\"CTRL - {col}\")\n",
    "\n",
    "# Plot CD samples\n",
    "for col in cd_columns[:3]:  # Take first 3 CD samples\n",
    "    plt.plot(df.index, df[col], label=f\"CD - {col}\", linestyle='--')\n",
    "\n",
    "# Customize the plot\n",
    "plt.title(\"Chromatograms for CD and CTRL Samples\")\n",
    "plt.xlabel(\"Retention Time (RT)\")\n",
    "plt.ylabel(\"Ion Count\")\n",
    "plt.legend()\n",
    "plt.grid(True)\n",
    "plt.show()\n"
   ]
  },
  {
   "cell_type": "code",
   "execution_count": 8,
   "id": "2da096a4-9be4-4740-94f4-a5b87a853907",
   "metadata": {},
   "outputs": [],
   "source": [
    "import numpy as np\n",
    "import pandas as pd\n",
    "from sklearn.svm import SVC\n",
    "from sklearn.model_selection import train_test_split\n",
    "from sklearn.metrics import confusion_matrix, ConfusionMatrixDisplay, accuracy_score\n",
    "import matplotlib.pyplot as plt\n"
   ]
  },
  {
   "cell_type": "code",
   "execution_count": 9,
   "id": "102c8205-ce16-471f-ae39-b8e641c12fc6",
   "metadata": {},
   "outputs": [
    {
     "name": "stdout",
     "output_type": "stream",
     "text": [
      "Note: you may need to restart the kernel to use updated packages.Requirement already satisfied: scikit-learn in c:\\python311\\lib\\site-packages (1.5.2)\n",
      "Requirement already satisfied: numpy>=1.19.5 in c:\\python311\\lib\\site-packages (from scikit-learn) (1.26.3)\n",
      "Requirement already satisfied: scipy>=1.6.0 in c:\\python311\\lib\\site-packages (from scikit-learn) (1.14.1)\n",
      "Requirement already satisfied: joblib>=1.2.0 in c:\\python311\\lib\\site-packages (from scikit-learn) (1.4.2)\n",
      "Requirement already satisfied: threadpoolctl>=3.1.0 in c:\\python311\\lib\\site-packages (from scikit-learn) (3.5.0)\n",
      "\n"
     ]
    },
    {
     "name": "stderr",
     "output_type": "stream",
     "text": [
      "WARNING: Ignoring invalid distribution ~ (C:\\Python311\\Lib\\site-packages)\n",
      "WARNING: Ignoring invalid distribution ~-p (C:\\Python311\\Lib\\site-packages)\n",
      "WARNING: Ignoring invalid distribution ~=p (C:\\Python311\\Lib\\site-packages)\n",
      "WARNING: Ignoring invalid distribution ~ip (C:\\Python311\\Lib\\site-packages)\n",
      "WARNING: Ignoring invalid distribution ~~p (C:\\Python311\\Lib\\site-packages)\n",
      "WARNING: Ignoring invalid distribution ~ (C:\\Python311\\Lib\\site-packages)\n",
      "WARNING: Ignoring invalid distribution ~-p (C:\\Python311\\Lib\\site-packages)\n",
      "WARNING: Ignoring invalid distribution ~=p (C:\\Python311\\Lib\\site-packages)\n",
      "WARNING: Ignoring invalid distribution ~ip (C:\\Python311\\Lib\\site-packages)\n",
      "WARNING: Ignoring invalid distribution ~~p (C:\\Python311\\Lib\\site-packages)\n",
      "WARNING: Ignoring invalid distribution ~ (C:\\Python311\\Lib\\site-packages)\n",
      "WARNING: Ignoring invalid distribution ~-p (C:\\Python311\\Lib\\site-packages)\n",
      "WARNING: Ignoring invalid distribution ~=p (C:\\Python311\\Lib\\site-packages)\n",
      "WARNING: Ignoring invalid distribution ~ip (C:\\Python311\\Lib\\site-packages)\n",
      "WARNING: Ignoring invalid distribution ~~p (C:\\Python311\\Lib\\site-packages)\n"
     ]
    }
   ],
   "source": [
    "pip install scikit-learn\n"
   ]
  },
  {
   "cell_type": "code",
   "execution_count": 10,
   "id": "17273361-5705-42f9-b7bb-a48d6a244d43",
   "metadata": {},
   "outputs": [],
   "source": [
    "import numpy as np\n",
    "import pandas as pd\n",
    "from sklearn.svm import SVC\n",
    "from sklearn.model_selection import train_test_split\n",
    "from sklearn.metrics import confusion_matrix, ConfusionMatrixDisplay, accuracy_score\n",
    "import matplotlib.pyplot as plt\n"
   ]
  },
  {
   "cell_type": "code",
   "execution_count": 11,
   "id": "f3c765b2-7777-43c2-b6fe-472a5af025c4",
   "metadata": {},
   "outputs": [],
   "source": [
    "# Prepare features and labels\n",
    "X = df.T  # Each row corresponds to a sample, columns are features\n",
    "y = np.array([0 if 'CTRL' in col else 1 for col in df.columns])  # 0 for CTRL, 1 for CD\n",
    "\n",
    "# Split the data into training and testing sets (80% train, 20% test)\n",
    "X_train, X_test, y_train, y_test = train_test_split(X, y, test_size=0.2, random_state=42)\n"
   ]
  },
  {
   "cell_type": "code",
   "execution_count": 12,
   "id": "34bd5d04-c875-4265-9ad2-16e7021f5b3d",
   "metadata": {},
   "outputs": [
    {
     "data": {
      "text/html": [
       "<style>#sk-container-id-1 {\n",
       "  /* Definition of color scheme common for light and dark mode */\n",
       "  --sklearn-color-text: black;\n",
       "  --sklearn-color-line: gray;\n",
       "  /* Definition of color scheme for unfitted estimators */\n",
       "  --sklearn-color-unfitted-level-0: #fff5e6;\n",
       "  --sklearn-color-unfitted-level-1: #f6e4d2;\n",
       "  --sklearn-color-unfitted-level-2: #ffe0b3;\n",
       "  --sklearn-color-unfitted-level-3: chocolate;\n",
       "  /* Definition of color scheme for fitted estimators */\n",
       "  --sklearn-color-fitted-level-0: #f0f8ff;\n",
       "  --sklearn-color-fitted-level-1: #d4ebff;\n",
       "  --sklearn-color-fitted-level-2: #b3dbfd;\n",
       "  --sklearn-color-fitted-level-3: cornflowerblue;\n",
       "\n",
       "  /* Specific color for light theme */\n",
       "  --sklearn-color-text-on-default-background: var(--sg-text-color, var(--theme-code-foreground, var(--jp-content-font-color1, black)));\n",
       "  --sklearn-color-background: var(--sg-background-color, var(--theme-background, var(--jp-layout-color0, white)));\n",
       "  --sklearn-color-border-box: var(--sg-text-color, var(--theme-code-foreground, var(--jp-content-font-color1, black)));\n",
       "  --sklearn-color-icon: #696969;\n",
       "\n",
       "  @media (prefers-color-scheme: dark) {\n",
       "    /* Redefinition of color scheme for dark theme */\n",
       "    --sklearn-color-text-on-default-background: var(--sg-text-color, var(--theme-code-foreground, var(--jp-content-font-color1, white)));\n",
       "    --sklearn-color-background: var(--sg-background-color, var(--theme-background, var(--jp-layout-color0, #111)));\n",
       "    --sklearn-color-border-box: var(--sg-text-color, var(--theme-code-foreground, var(--jp-content-font-color1, white)));\n",
       "    --sklearn-color-icon: #878787;\n",
       "  }\n",
       "}\n",
       "\n",
       "#sk-container-id-1 {\n",
       "  color: var(--sklearn-color-text);\n",
       "}\n",
       "\n",
       "#sk-container-id-1 pre {\n",
       "  padding: 0;\n",
       "}\n",
       "\n",
       "#sk-container-id-1 input.sk-hidden--visually {\n",
       "  border: 0;\n",
       "  clip: rect(1px 1px 1px 1px);\n",
       "  clip: rect(1px, 1px, 1px, 1px);\n",
       "  height: 1px;\n",
       "  margin: -1px;\n",
       "  overflow: hidden;\n",
       "  padding: 0;\n",
       "  position: absolute;\n",
       "  width: 1px;\n",
       "}\n",
       "\n",
       "#sk-container-id-1 div.sk-dashed-wrapped {\n",
       "  border: 1px dashed var(--sklearn-color-line);\n",
       "  margin: 0 0.4em 0.5em 0.4em;\n",
       "  box-sizing: border-box;\n",
       "  padding-bottom: 0.4em;\n",
       "  background-color: var(--sklearn-color-background);\n",
       "}\n",
       "\n",
       "#sk-container-id-1 div.sk-container {\n",
       "  /* jupyter's `normalize.less` sets `[hidden] { display: none; }`\n",
       "     but bootstrap.min.css set `[hidden] { display: none !important; }`\n",
       "     so we also need the `!important` here to be able to override the\n",
       "     default hidden behavior on the sphinx rendered scikit-learn.org.\n",
       "     See: https://github.com/scikit-learn/scikit-learn/issues/21755 */\n",
       "  display: inline-block !important;\n",
       "  position: relative;\n",
       "}\n",
       "\n",
       "#sk-container-id-1 div.sk-text-repr-fallback {\n",
       "  display: none;\n",
       "}\n",
       "\n",
       "div.sk-parallel-item,\n",
       "div.sk-serial,\n",
       "div.sk-item {\n",
       "  /* draw centered vertical line to link estimators */\n",
       "  background-image: linear-gradient(var(--sklearn-color-text-on-default-background), var(--sklearn-color-text-on-default-background));\n",
       "  background-size: 2px 100%;\n",
       "  background-repeat: no-repeat;\n",
       "  background-position: center center;\n",
       "}\n",
       "\n",
       "/* Parallel-specific style estimator block */\n",
       "\n",
       "#sk-container-id-1 div.sk-parallel-item::after {\n",
       "  content: \"\";\n",
       "  width: 100%;\n",
       "  border-bottom: 2px solid var(--sklearn-color-text-on-default-background);\n",
       "  flex-grow: 1;\n",
       "}\n",
       "\n",
       "#sk-container-id-1 div.sk-parallel {\n",
       "  display: flex;\n",
       "  align-items: stretch;\n",
       "  justify-content: center;\n",
       "  background-color: var(--sklearn-color-background);\n",
       "  position: relative;\n",
       "}\n",
       "\n",
       "#sk-container-id-1 div.sk-parallel-item {\n",
       "  display: flex;\n",
       "  flex-direction: column;\n",
       "}\n",
       "\n",
       "#sk-container-id-1 div.sk-parallel-item:first-child::after {\n",
       "  align-self: flex-end;\n",
       "  width: 50%;\n",
       "}\n",
       "\n",
       "#sk-container-id-1 div.sk-parallel-item:last-child::after {\n",
       "  align-self: flex-start;\n",
       "  width: 50%;\n",
       "}\n",
       "\n",
       "#sk-container-id-1 div.sk-parallel-item:only-child::after {\n",
       "  width: 0;\n",
       "}\n",
       "\n",
       "/* Serial-specific style estimator block */\n",
       "\n",
       "#sk-container-id-1 div.sk-serial {\n",
       "  display: flex;\n",
       "  flex-direction: column;\n",
       "  align-items: center;\n",
       "  background-color: var(--sklearn-color-background);\n",
       "  padding-right: 1em;\n",
       "  padding-left: 1em;\n",
       "}\n",
       "\n",
       "\n",
       "/* Toggleable style: style used for estimator/Pipeline/ColumnTransformer box that is\n",
       "clickable and can be expanded/collapsed.\n",
       "- Pipeline and ColumnTransformer use this feature and define the default style\n",
       "- Estimators will overwrite some part of the style using the `sk-estimator` class\n",
       "*/\n",
       "\n",
       "/* Pipeline and ColumnTransformer style (default) */\n",
       "\n",
       "#sk-container-id-1 div.sk-toggleable {\n",
       "  /* Default theme specific background. It is overwritten whether we have a\n",
       "  specific estimator or a Pipeline/ColumnTransformer */\n",
       "  background-color: var(--sklearn-color-background);\n",
       "}\n",
       "\n",
       "/* Toggleable label */\n",
       "#sk-container-id-1 label.sk-toggleable__label {\n",
       "  cursor: pointer;\n",
       "  display: block;\n",
       "  width: 100%;\n",
       "  margin-bottom: 0;\n",
       "  padding: 0.5em;\n",
       "  box-sizing: border-box;\n",
       "  text-align: center;\n",
       "}\n",
       "\n",
       "#sk-container-id-1 label.sk-toggleable__label-arrow:before {\n",
       "  /* Arrow on the left of the label */\n",
       "  content: \"▸\";\n",
       "  float: left;\n",
       "  margin-right: 0.25em;\n",
       "  color: var(--sklearn-color-icon);\n",
       "}\n",
       "\n",
       "#sk-container-id-1 label.sk-toggleable__label-arrow:hover:before {\n",
       "  color: var(--sklearn-color-text);\n",
       "}\n",
       "\n",
       "/* Toggleable content - dropdown */\n",
       "\n",
       "#sk-container-id-1 div.sk-toggleable__content {\n",
       "  max-height: 0;\n",
       "  max-width: 0;\n",
       "  overflow: hidden;\n",
       "  text-align: left;\n",
       "  /* unfitted */\n",
       "  background-color: var(--sklearn-color-unfitted-level-0);\n",
       "}\n",
       "\n",
       "#sk-container-id-1 div.sk-toggleable__content.fitted {\n",
       "  /* fitted */\n",
       "  background-color: var(--sklearn-color-fitted-level-0);\n",
       "}\n",
       "\n",
       "#sk-container-id-1 div.sk-toggleable__content pre {\n",
       "  margin: 0.2em;\n",
       "  border-radius: 0.25em;\n",
       "  color: var(--sklearn-color-text);\n",
       "  /* unfitted */\n",
       "  background-color: var(--sklearn-color-unfitted-level-0);\n",
       "}\n",
       "\n",
       "#sk-container-id-1 div.sk-toggleable__content.fitted pre {\n",
       "  /* unfitted */\n",
       "  background-color: var(--sklearn-color-fitted-level-0);\n",
       "}\n",
       "\n",
       "#sk-container-id-1 input.sk-toggleable__control:checked~div.sk-toggleable__content {\n",
       "  /* Expand drop-down */\n",
       "  max-height: 200px;\n",
       "  max-width: 100%;\n",
       "  overflow: auto;\n",
       "}\n",
       "\n",
       "#sk-container-id-1 input.sk-toggleable__control:checked~label.sk-toggleable__label-arrow:before {\n",
       "  content: \"▾\";\n",
       "}\n",
       "\n",
       "/* Pipeline/ColumnTransformer-specific style */\n",
       "\n",
       "#sk-container-id-1 div.sk-label input.sk-toggleable__control:checked~label.sk-toggleable__label {\n",
       "  color: var(--sklearn-color-text);\n",
       "  background-color: var(--sklearn-color-unfitted-level-2);\n",
       "}\n",
       "\n",
       "#sk-container-id-1 div.sk-label.fitted input.sk-toggleable__control:checked~label.sk-toggleable__label {\n",
       "  background-color: var(--sklearn-color-fitted-level-2);\n",
       "}\n",
       "\n",
       "/* Estimator-specific style */\n",
       "\n",
       "/* Colorize estimator box */\n",
       "#sk-container-id-1 div.sk-estimator input.sk-toggleable__control:checked~label.sk-toggleable__label {\n",
       "  /* unfitted */\n",
       "  background-color: var(--sklearn-color-unfitted-level-2);\n",
       "}\n",
       "\n",
       "#sk-container-id-1 div.sk-estimator.fitted input.sk-toggleable__control:checked~label.sk-toggleable__label {\n",
       "  /* fitted */\n",
       "  background-color: var(--sklearn-color-fitted-level-2);\n",
       "}\n",
       "\n",
       "#sk-container-id-1 div.sk-label label.sk-toggleable__label,\n",
       "#sk-container-id-1 div.sk-label label {\n",
       "  /* The background is the default theme color */\n",
       "  color: var(--sklearn-color-text-on-default-background);\n",
       "}\n",
       "\n",
       "/* On hover, darken the color of the background */\n",
       "#sk-container-id-1 div.sk-label:hover label.sk-toggleable__label {\n",
       "  color: var(--sklearn-color-text);\n",
       "  background-color: var(--sklearn-color-unfitted-level-2);\n",
       "}\n",
       "\n",
       "/* Label box, darken color on hover, fitted */\n",
       "#sk-container-id-1 div.sk-label.fitted:hover label.sk-toggleable__label.fitted {\n",
       "  color: var(--sklearn-color-text);\n",
       "  background-color: var(--sklearn-color-fitted-level-2);\n",
       "}\n",
       "\n",
       "/* Estimator label */\n",
       "\n",
       "#sk-container-id-1 div.sk-label label {\n",
       "  font-family: monospace;\n",
       "  font-weight: bold;\n",
       "  display: inline-block;\n",
       "  line-height: 1.2em;\n",
       "}\n",
       "\n",
       "#sk-container-id-1 div.sk-label-container {\n",
       "  text-align: center;\n",
       "}\n",
       "\n",
       "/* Estimator-specific */\n",
       "#sk-container-id-1 div.sk-estimator {\n",
       "  font-family: monospace;\n",
       "  border: 1px dotted var(--sklearn-color-border-box);\n",
       "  border-radius: 0.25em;\n",
       "  box-sizing: border-box;\n",
       "  margin-bottom: 0.5em;\n",
       "  /* unfitted */\n",
       "  background-color: var(--sklearn-color-unfitted-level-0);\n",
       "}\n",
       "\n",
       "#sk-container-id-1 div.sk-estimator.fitted {\n",
       "  /* fitted */\n",
       "  background-color: var(--sklearn-color-fitted-level-0);\n",
       "}\n",
       "\n",
       "/* on hover */\n",
       "#sk-container-id-1 div.sk-estimator:hover {\n",
       "  /* unfitted */\n",
       "  background-color: var(--sklearn-color-unfitted-level-2);\n",
       "}\n",
       "\n",
       "#sk-container-id-1 div.sk-estimator.fitted:hover {\n",
       "  /* fitted */\n",
       "  background-color: var(--sklearn-color-fitted-level-2);\n",
       "}\n",
       "\n",
       "/* Specification for estimator info (e.g. \"i\" and \"?\") */\n",
       "\n",
       "/* Common style for \"i\" and \"?\" */\n",
       "\n",
       ".sk-estimator-doc-link,\n",
       "a:link.sk-estimator-doc-link,\n",
       "a:visited.sk-estimator-doc-link {\n",
       "  float: right;\n",
       "  font-size: smaller;\n",
       "  line-height: 1em;\n",
       "  font-family: monospace;\n",
       "  background-color: var(--sklearn-color-background);\n",
       "  border-radius: 1em;\n",
       "  height: 1em;\n",
       "  width: 1em;\n",
       "  text-decoration: none !important;\n",
       "  margin-left: 1ex;\n",
       "  /* unfitted */\n",
       "  border: var(--sklearn-color-unfitted-level-1) 1pt solid;\n",
       "  color: var(--sklearn-color-unfitted-level-1);\n",
       "}\n",
       "\n",
       ".sk-estimator-doc-link.fitted,\n",
       "a:link.sk-estimator-doc-link.fitted,\n",
       "a:visited.sk-estimator-doc-link.fitted {\n",
       "  /* fitted */\n",
       "  border: var(--sklearn-color-fitted-level-1) 1pt solid;\n",
       "  color: var(--sklearn-color-fitted-level-1);\n",
       "}\n",
       "\n",
       "/* On hover */\n",
       "div.sk-estimator:hover .sk-estimator-doc-link:hover,\n",
       ".sk-estimator-doc-link:hover,\n",
       "div.sk-label-container:hover .sk-estimator-doc-link:hover,\n",
       ".sk-estimator-doc-link:hover {\n",
       "  /* unfitted */\n",
       "  background-color: var(--sklearn-color-unfitted-level-3);\n",
       "  color: var(--sklearn-color-background);\n",
       "  text-decoration: none;\n",
       "}\n",
       "\n",
       "div.sk-estimator.fitted:hover .sk-estimator-doc-link.fitted:hover,\n",
       ".sk-estimator-doc-link.fitted:hover,\n",
       "div.sk-label-container:hover .sk-estimator-doc-link.fitted:hover,\n",
       ".sk-estimator-doc-link.fitted:hover {\n",
       "  /* fitted */\n",
       "  background-color: var(--sklearn-color-fitted-level-3);\n",
       "  color: var(--sklearn-color-background);\n",
       "  text-decoration: none;\n",
       "}\n",
       "\n",
       "/* Span, style for the box shown on hovering the info icon */\n",
       ".sk-estimator-doc-link span {\n",
       "  display: none;\n",
       "  z-index: 9999;\n",
       "  position: relative;\n",
       "  font-weight: normal;\n",
       "  right: .2ex;\n",
       "  padding: .5ex;\n",
       "  margin: .5ex;\n",
       "  width: min-content;\n",
       "  min-width: 20ex;\n",
       "  max-width: 50ex;\n",
       "  color: var(--sklearn-color-text);\n",
       "  box-shadow: 2pt 2pt 4pt #999;\n",
       "  /* unfitted */\n",
       "  background: var(--sklearn-color-unfitted-level-0);\n",
       "  border: .5pt solid var(--sklearn-color-unfitted-level-3);\n",
       "}\n",
       "\n",
       ".sk-estimator-doc-link.fitted span {\n",
       "  /* fitted */\n",
       "  background: var(--sklearn-color-fitted-level-0);\n",
       "  border: var(--sklearn-color-fitted-level-3);\n",
       "}\n",
       "\n",
       ".sk-estimator-doc-link:hover span {\n",
       "  display: block;\n",
       "}\n",
       "\n",
       "/* \"?\"-specific style due to the `<a>` HTML tag */\n",
       "\n",
       "#sk-container-id-1 a.estimator_doc_link {\n",
       "  float: right;\n",
       "  font-size: 1rem;\n",
       "  line-height: 1em;\n",
       "  font-family: monospace;\n",
       "  background-color: var(--sklearn-color-background);\n",
       "  border-radius: 1rem;\n",
       "  height: 1rem;\n",
       "  width: 1rem;\n",
       "  text-decoration: none;\n",
       "  /* unfitted */\n",
       "  color: var(--sklearn-color-unfitted-level-1);\n",
       "  border: var(--sklearn-color-unfitted-level-1) 1pt solid;\n",
       "}\n",
       "\n",
       "#sk-container-id-1 a.estimator_doc_link.fitted {\n",
       "  /* fitted */\n",
       "  border: var(--sklearn-color-fitted-level-1) 1pt solid;\n",
       "  color: var(--sklearn-color-fitted-level-1);\n",
       "}\n",
       "\n",
       "/* On hover */\n",
       "#sk-container-id-1 a.estimator_doc_link:hover {\n",
       "  /* unfitted */\n",
       "  background-color: var(--sklearn-color-unfitted-level-3);\n",
       "  color: var(--sklearn-color-background);\n",
       "  text-decoration: none;\n",
       "}\n",
       "\n",
       "#sk-container-id-1 a.estimator_doc_link.fitted:hover {\n",
       "  /* fitted */\n",
       "  background-color: var(--sklearn-color-fitted-level-3);\n",
       "}\n",
       "</style><div id=\"sk-container-id-1\" class=\"sk-top-container\"><div class=\"sk-text-repr-fallback\"><pre>SVC()</pre><b>In a Jupyter environment, please rerun this cell to show the HTML representation or trust the notebook. <br />On GitHub, the HTML representation is unable to render, please try loading this page with nbviewer.org.</b></div><div class=\"sk-container\" hidden><div class=\"sk-item\"><div class=\"sk-estimator fitted sk-toggleable\"><input class=\"sk-toggleable__control sk-hidden--visually\" id=\"sk-estimator-id-1\" type=\"checkbox\" checked><label for=\"sk-estimator-id-1\" class=\"sk-toggleable__label fitted sk-toggleable__label-arrow fitted\">&nbsp;&nbsp;SVC<a class=\"sk-estimator-doc-link fitted\" rel=\"noreferrer\" target=\"_blank\" href=\"https://scikit-learn.org/1.5/modules/generated/sklearn.svm.SVC.html\">?<span>Documentation for SVC</span></a><span class=\"sk-estimator-doc-link fitted\">i<span>Fitted</span></span></label><div class=\"sk-toggleable__content fitted\"><pre>SVC()</pre></div> </div></div></div></div>"
      ],
      "text/plain": [
       "SVC()"
      ]
     },
     "execution_count": 12,
     "metadata": {},
     "output_type": "execute_result"
    }
   ],
   "source": [
    "# Initialize and train the SVM classifier\n",
    "clf = SVC()\n",
    "clf.fit(X_train, y_train)\n"
   ]
  },
  {
   "cell_type": "code",
   "execution_count": 13,
   "id": "0b0a57cc-0d81-412c-926d-dfb9225f69bb",
   "metadata": {},
   "outputs": [
    {
     "name": "stdout",
     "output_type": "stream",
     "text": [
      "Accuracy: 80.00%\n"
     ]
    },
    {
     "data": {
      "image/png": "[encoded data removed]",
      "text/plain": [
       "<Figure size 640x480 with 2 Axes>"
      ]
     },
     "metadata": {},
     "output_type": "display_data"
    }
   ],
   "source": [
    "# Predict on the test set\n",
    "y_pred = clf.predict(X_test)\n",
    "\n",
    "# Calculate accuracy\n",
    "accuracy = accuracy_score(y_test, y_pred)\n",
    "print(f\"Accuracy: {accuracy * 100:.2f}%\")\n",
    "\n",
    "# Generate confusion matrix\n",
    "cm = confusion_matrix(y_test, y_pred, labels=[0, 1])\n",
    "\n",
    "# Plot confusion matrix\n",
    "disp = ConfusionMatrixDisplay(confusion_matrix=cm, display_labels=[\"CTRL\", \"CD\"])\n",
    "disp.plot(cmap=\"Blues\")\n",
    "plt.title(\"Confusion Matrix for SVM Classifier\")\n",
    "plt.show()\n"
   ]
  },
  {
   "cell_type": "code",
   "execution_count": 14,
   "id": "2ff83acf-2c3b-4817-8de6-e597896ce20f",
   "metadata": {},
   "outputs": [],
   "source": [
    "y = pd.Categorical(y)  # If `y` is a pandas Series\n"
   ]
  },
  {
   "cell_type": "code",
   "execution_count": 15,
   "id": "f653023a-a216-45d3-8667-9fa6c692b9d9",
   "metadata": {},
   "outputs": [
    {
     "name": "stdout",
     "output_type": "stream",
     "text": [
      "[0 1]\n"
     ]
    }
   ],
   "source": [
    "# Example: Convert continuous target labels to binary categories\n",
    "# Let's assume the threshold for being classified as 'patient' is 0.5\n",
    "y_train_binary = np.where(y_train > 0.5, 1, 0)  # Adjust the threshold as per your data\n",
    "\n",
    "# Alternatively, if the labels are strings like 'healthy', 'patient'\n",
    "# You can map these to numeric categories\n",
    "# y_train_binary = y_train.map({'healthy': 0, 'patient': 1})\n",
    "\n",
    "# Make sure the labels are now discrete\n",
    "print(np.unique(y_train_binary))  # Should show an array of unique categories like [0, 1]\n"
   ]
  },
  {
   "cell_type": "code",
   "execution_count": 16,
   "id": "7b094e8e-7789-41d2-b445-d3ca2bae72d4",
   "metadata": {},
   "outputs": [
    {
     "name": "stdout",
     "output_type": "stream",
     "text": [
      "Mean Squared Error: 0.37\n"
     ]
    }
   ],
   "source": [
    "from sklearn.svm import SVR\n",
    "from sklearn.metrics import mean_squared_error\n",
    "import numpy as np\n",
    "\n",
    "# Train the SVR model without random_state\n",
    "clf = SVR(kernel='linear')  # No need for random_state here\n",
    "clf.fit(X_train, y_train)\n",
    "\n",
    "# Make predictions\n",
    "y_pred = clf.predict(X_test)\n",
    "\n",
    "# Evaluate the regression performance\n",
    "mse = mean_squared_error(y_test, y_pred)\n",
    "print(f\"Mean Squared Error: {mse:.2f}\")\n"
   ]
  },
  {
   "cell_type": "code",
   "execution_count": 17,
   "id": "6efbe85c-4c58-482c-8e60-1ec9f243cd74",
   "metadata": {},
   "outputs": [
    {
     "name": "stdout",
     "output_type": "stream",
     "text": [
      "R-squared: -0.54\n"
     ]
    }
   ],
   "source": [
    "from sklearn.metrics import r2_score\n",
    "r2 = r2_score(y_test, y_pred)\n",
    "print(f\"R-squared: {r2:.2f}\")\n"
   ]
  },
  {
   "cell_type": "code",
   "execution_count": 21,
   "id": "cd522d51-e725-4402-b55e-2f877f136ea7",
   "metadata": {},
   "outputs": [
    {
     "name": "stdout",
     "output_type": "stream",
     "text": [
      "X_train shape: (70, 10)\n",
      "y_train shape: (70,)\n",
      "X_test shape: (30, 10)\n",
      "y_test shape: (30,)\n",
      "Unique values in y_train_class: [0 1]\n",
      "Unique values in y_test_class: [0 1]\n",
      "Classification Accuracy: 26.67%\n"
     ]
    },
    {
     "data": {
      "text/plain": [
       "<sklearn.metrics._plot.confusion_matrix.ConfusionMatrixDisplay at 0x2b86aba03d0>"
      ]
     },
     "execution_count": 21,
     "metadata": {},
     "output_type": "execute_result"
    },
    {
     "data": {
      "image/png": "[encoded data removed]",
      "text/plain": [
       "<Figure size 640x480 with 2 Axes>"
      ]
     },
     "metadata": {},
     "output_type": "display_data"
    }
   ],
   "source": [
    "import numpy as np\n",
    "from sklearn.svm import SVC\n",
    "from sklearn.model_selection import train_test_split\n",
    "from sklearn.metrics import accuracy_score, confusion_matrix, ConfusionMatrixDisplay\n",
    "\n",
    "# Example continuous labels (replace with your actual dataset)\n",
    "y = np.random.rand(100)  # Example continuous labels\n",
    "X = np.random.rand(100, 10)  # Example features (100 samples, 10 features)\n",
    "\n",
    "# Split the dataset into train and test sets\n",
    "X_train, X_test, y_train, y_test = train_test_split(X, y, test_size=0.3, random_state=42)\n",
    "\n",
    "# Check the shapes of your data to ensure they are aligned\n",
    "print(f\"X_train shape: {X_train.shape}\")\n",
    "print(f\"y_train shape: {y_train.shape}\")\n",
    "print(f\"X_test shape: {X_test.shape}\")\n",
    "print(f\"y_test shape: {y_test.shape}\")\n",
    "\n",
    "# Convert continuous labels to binary classes (0 or 1) using thresholding at the median\n",
    "y_train_class = np.where(y_train > np.median(y_train), 1, 0)\n",
    "y_test_class = np.where(y_test > np.median(y_test), 1, 0)\n",
    "\n",
    "# Check the unique values of the labels to ensure they are 0 or 1\n",
    "print(f\"Unique values in y_train_class: {np.unique(y_train_class)}\")\n",
    "print(f\"Unique values in y_test_class: {np.unique(y_test_class)}\")\n",
    "\n",
    "# Initialize the classifier\n",
    "clf = SVC(kernel='linear', random_state=42)\n",
    "\n",
    "# Train the classifier with binary labels\n",
    "clf.fit(X_train, y_train_class)\n",
    "\n",
    "# Perform predictions on the test set\n",
    "y_pred_class = clf.predict(X_test)\n",
    "\n",
    "# Calculate accuracy\n",
    "accuracy = accuracy_score(y_test_class, y_pred_class)\n",
    "print(f\"Classification Accuracy: {accuracy * 100:.2f}%\")\n",
    "\n",
    "# Generate and display the confusion matrix\n",
    "cm = confusion_matrix(y_test_class, y_pred_class)\n",
    "disp = ConfusionMatrixDisplay(confusion_matrix=cm, display_labels=[0, 1])\n",
    "disp.plot()\n",
    "\n"
   ]
  },
  {
   "cell_type": "code",
   "execution_count": 29,
   "id": "3e1ff87a-9000-4295-b386-309f28a02069",
   "metadata": {},
   "outputs": [
    {
     "name": "stdout",
     "output_type": "stream",
     "text": [
      "X_train shape: (70, 10)\n",
      "y_train shape: (70,)\n",
      "X_test shape: (30, 10)\n",
      "y_test shape: (30,)\n",
      "Unique values in y_train_class: [0 1]\n",
      "Unique values in y_test_class: [0 1]\n",
      "Classification Accuracy: 56.67%\n"
     ]
    },
    {
     "data": {
      "text/plain": [
       "<sklearn.metrics._plot.confusion_matrix.ConfusionMatrixDisplay at 0x2b86c9eb690>"
      ]
     },
     "execution_count": 29,
     "metadata": {},
     "output_type": "execute_result"
    },
    {
     "data": {
      "image/png": "[encoded data removed]",
      "text/plain": [
       "<Figure size 640x480 with 2 Axes>"
      ]
     },
     "metadata": {},
     "output_type": "display_data"
    }
   ],
   "source": [
    "import numpy as np\n",
    "from sklearn.svm import SVC\n",
    "from sklearn.model_selection import train_test_split\n",
    "from sklearn.metrics import accuracy_score, confusion_matrix, ConfusionMatrixDisplay\n",
    "\n",
    "# Example continuous labels (replace with your actual dataset)\n",
    "y = np.random.rand(100)  # Example continuous labels\n",
    "X = np.random.rand(100, 10)  # Example features (100 samples, 10 features)\n",
    "\n",
    "# Split the dataset into train and test sets\n",
    "X_train, X_test, y_train, y_test = train_test_split(X, y, test_size=0.3, random_state=42)\n",
    "\n",
    "# Check the shapes of your data to ensure they are aligned\n",
    "print(f\"X_train shape: {X_train.shape}\")\n",
    "print(f\"y_train shape: {y_train.shape}\")\n",
    "print(f\"X_test shape: {X_test.shape}\")\n",
    "print(f\"y_test shape: {y_test.shape}\")\n",
    "\n",
    "# Convert continuous labels to binary classes (0 or 1) using thresholding at the median\n",
    "y_train_class = np.where(y_train > np.median(y_train), 1, 0)\n",
    "y_test_class = np.where(y_test > np.median(y_test), 1, 0)\n",
    "\n",
    "# Check the unique values of the labels to ensure they are 0 or 1\n",
    "print(f\"Unique values in y_train_class: {np.unique(y_train_class)}\")\n",
    "print(f\"Unique values in y_test_class: {np.unique(y_test_class)}\")\n",
    "\n",
    "# Initialize the classifier\n",
    "clf = SVC(kernel='linear', random_state=42)\n",
    "\n",
    "# Train the classifier with binary labels\n",
    "clf.fit(X_train, y_train_class)\n",
    "\n",
    "# Perform predictions on the test set\n",
    "y_pred_class = clf.predict(X_test)\n",
    "\n",
    "# Calculate accuracy\n",
    "accuracy = accuracy_score(y_test_class, y_pred_class)\n",
    "print(f\"Classification Accuracy: {accuracy * 100:.2f}%\")\n",
    "\n",
    "# Generate and display the confusion matrix\n",
    "cm = confusion_matrix(y_test_class, y_pred_class)\n",
    "disp = ConfusionMatrixDisplay(confusion_matrix=cm, display_labels=[0, 1])\n",
    "disp.plot()\n",
    "\n"
   ]
  },
  {
   "cell_type": "code",
   "execution_count": 28,
   "id": "c6acfd7b-687a-4165-b968-f8932a7da9b9",
   "metadata": {},
   "outputs": [
    {
     "name": "stdout",
     "output_type": "stream",
     "text": [
      "X_train shape: (70, 10)\n",
      "y_train shape: (70,)\n",
      "X_test shape: (30, 10)\n",
      "y_test shape: (30,)\n",
      "Unique values in y_train_class: [0 1]\n",
      "Unique values in y_test_class: [0 1]\n",
      "Classification Accuracy: 43.33%\n"
     ]
    },
    {
     "data": {
      "text/plain": [
       "<sklearn.metrics._plot.confusion_matrix.ConfusionMatrixDisplay at 0x2b86c8075d0>"
      ]
     },
     "execution_count": 28,
     "metadata": {},
     "output_type": "execute_result"
    },
    {
     "data": {
      "image/png": "[encoded data removed]",
      "text/plain": [
       "<Figure size 640x480 with 2 Axes>"
      ]
     },
     "metadata": {},
     "output_type": "display_data"
    }
   ],
   "source": [
    "import numpy as np\n",
    "from sklearn.svm import SVC\n",
    "from sklearn.model_selection import train_test_split\n",
    "from sklearn.metrics import accuracy_score, confusion_matrix, ConfusionMatrixDisplay\n",
    "\n",
    "# Example continuous labels (replace with your actual dataset)\n",
    "y = np.random.rand(100)  # Example continuous labels\n",
    "X = np.random.rand(100, 10)  # Example features (100 samples, 10 features)\n",
    "\n",
    "# Split the dataset into train and test sets\n",
    "X_train, X_test, y_train, y_test = train_test_split(X, y, test_size=0.3, random_state=42)\n",
    "\n",
    "# Check the shapes of your data to ensure they are aligned\n",
    "print(f\"X_train shape: {X_train.shape}\")\n",
    "print(f\"y_train shape: {y_train.shape}\")\n",
    "print(f\"X_test shape: {X_test.shape}\")\n",
    "print(f\"y_test shape: {y_test.shape}\")\n",
    "\n",
    "# Convert continuous labels to binary classes (0 or 1) using thresholding at the median\n",
    "y_train_class = np.where(y_train > np.median(y_train), 1, 0)\n",
    "y_test_class = np.where(y_test > np.median(y_test), 1, 0)\n",
    "\n",
    "# Check the unique values of the labels to ensure they are 0 or 1\n",
    "print(f\"Unique values in y_train_class: {np.unique(y_train_class)}\")\n",
    "print(f\"Unique values in y_test_class: {np.unique(y_test_class)}\")\n",
    "\n",
    "# Initialize the classifier\n",
    "clf = SVC(kernel='linear', random_state=42)\n",
    "\n",
    "# Train the classifier with binary labels\n",
    "clf.fit(X_train, y_train_class)\n",
    "\n",
    "# Perform predictions on the test set\n",
    "y_pred_class = clf.predict(X_test)\n",
    "\n",
    "# Calculate accuracy\n",
    "accuracy = accuracy_score(y_test_class, y_pred_class)\n",
    "print(f\"Classification Accuracy: {accuracy * 100:.2f}%\")\n",
    "\n",
    "# Generate and display the confusion matrix\n",
    "cm = confusion_matrix(y_test_class, y_pred_class)\n",
    "disp = ConfusionMatrixDisplay(confusion_matrix=cm, display_labels=[0, 1])\n",
    "disp.plot()\n",
    "\n"
   ]
  },
  {
   "cell_type": "code",
   "execution_count": 25,
   "id": "147fdf49-0197-4e0b-aa1a-7d25ce57901c",
   "metadata": {},
   "outputs": [
    {
     "name": "stdout",
     "output_type": "stream",
     "text": [
      "True Accuracy: 43.33%\n",
      "Permutation Test P-value: 0.8250\n"
     ]
    }
   ],
   "source": [
    "import numpy as np\n",
    "from sklearn.utils import shuffle\n",
    "from sklearn.svm import SVC\n",
    "from sklearn.metrics import accuracy_score\n",
    "from sklearn.model_selection import train_test_split\n",
    "\n",
    "# Example continuous labels (replace with your actual dataset)\n",
    "y = np.random.rand(100)  # Example continuous labels\n",
    "X = np.random.rand(100, 10)  # Example features (100 samples, 10 features)\n",
    "\n",
    "# Convert continuous labels to binary classes (0 or 1) using thresholding at the median\n",
    "y_binned = np.where(y > np.median(y), 1, 0)\n",
    "\n",
    "# Split the dataset into train and test sets\n",
    "X_train, X_test, y_train, y_test = train_test_split(X, y_binned, test_size=0.3, random_state=42)\n",
    "\n",
    "# Initialize the classifier\n",
    "clf = SVC(kernel='linear', random_state=42)\n",
    "\n",
    "# Train the classifier with original labels\n",
    "clf.fit(X_train, y_train)\n",
    "\n",
    "# Make predictions and calculate the true accuracy\n",
    "y_pred = clf.predict(X_test)\n",
    "true_accuracy = accuracy_score(y_test, y_pred)\n",
    "\n",
    "# Number of iterations for permutation test\n",
    "n_iterations = 1000\n",
    "\n",
    "# Store accuracies for permuted labels\n",
    "permuted_accuracies = []\n",
    "\n",
    "for i in range(n_iterations):\n",
    "    # Shuffle the target labels for training and testing\n",
    "    y_train_permuted = shuffle(y_train, random_state=i)\n",
    "    y_test_permuted = shuffle(y_test, random_state=i)\n",
    "\n",
    "    # Train the classifier on permuted data\n",
    "    clf.fit(X_train, y_train_permuted)\n",
    "    y_pred_permuted = clf.predict(X_test)\n",
    "\n",
    "    # Calculate accuracy for permuted labels\n",
    "    perm_accuracy = accuracy_score(y_test_permuted, y_pred_permuted)\n",
    "    permuted_accuracies.append(perm_accuracy)\n",
    "\n",
    "# Calculate the p-value by comparing true accuracy with permuted accuracies\n",
    "permuted_accuracies = np.array(permuted_accuracies)\n",
    "p_value = np.mean(permuted_accuracies >= true_accuracy)\n",
    "\n",
    "# Output the results\n",
    "print(f\"True Accuracy: {true_accuracy * 100:.2f}%\")\n",
    "print(f\"Permutation Test P-value: {p_value:.4f}\")\n"
   ]
  },
  {
   "cell_type": "code",
   "execution_count": 30,
   "id": "9da64e08-8475-4245-915d-539b685fff36",
   "metadata": {},
   "outputs": [
    {
     "name": "stdout",
     "output_type": "stream",
     "text": [
      "X_train shape: (70, 10)\n",
      "y_train shape: (70,)\n",
      "X_test shape: (30, 10)\n",
      "y_test shape: (30,)\n",
      "Unique values in y_train_class: [0 1]\n",
      "Unique values in y_test_class: [0 1]\n",
      "Classification Accuracy: 53.33%\n"
     ]
    },
    {
     "data": {
      "text/plain": [
       "<sklearn.metrics._plot.confusion_matrix.ConfusionMatrixDisplay at 0x2b86c8fedd0>"
      ]
     },
     "execution_count": 30,
     "metadata": {},
     "output_type": "execute_result"
    },
    {
     "data": {
      "image/png": "[encoded data removed]",
      "text/plain": [
       "<Figure size 640x480 with 2 Axes>"
      ]
     },
     "metadata": {},
     "output_type": "display_data"
    }
   ],
   "source": [
    "import numpy as np\n",
    "from sklearn.svm import SVC\n",
    "from sklearn.model_selection import train_test_split\n",
    "from sklearn.metrics import accuracy_score, confusion_matrix, ConfusionMatrixDisplay\n",
    "\n",
    "# Example continuous labels (replace with your actual dataset)\n",
    "y = np.random.rand(100)  # Example continuous labels\n",
    "X = np.random.rand(100, 10)  # Example features (100 samples, 10 features)\n",
    "\n",
    "# Split the dataset into train and test sets\n",
    "X_train, X_test, y_train, y_test = train_test_split(X, y, test_size=0.3, random_state=42)\n",
    "\n",
    "# Check the shapes of your data to ensure they are aligned\n",
    "print(f\"X_train shape: {X_train.shape}\")\n",
    "print(f\"y_train shape: {y_train.shape}\")\n",
    "print(f\"X_test shape: {X_test.shape}\")\n",
    "print(f\"y_test shape: {y_test.shape}\")\n",
    "\n",
    "# Convert continuous labels to binary classes (0 or 1) using thresholding at the median\n",
    "y_train_class = np.where(y_train > np.median(y_train), 1, 0)\n",
    "y_test_class = np.where(y_test > np.median(y_test), 1, 0)\n",
    "\n",
    "# Check the unique values of the labels to ensure they are 0 or 1\n",
    "print(f\"Unique values in y_train_class: {np.unique(y_train_class)}\")\n",
    "print(f\"Unique values in y_test_class: {np.unique(y_test_class)}\")\n",
    "\n",
    "# Initialize the classifier\n",
    "clf = SVC(kernel='linear', random_state=42)\n",
    "\n",
    "# Train the classifier with binary labels\n",
    "clf.fit(X_train, y_train_class)\n",
    "\n",
    "# Perform predictions on the test set\n",
    "y_pred_class = clf.predict(X_test)\n",
    "\n",
    "# Calculate accuracy\n",
    "accuracy = accuracy_score(y_test_class, y_pred_class)\n",
    "print(f\"Classification Accuracy: {accuracy * 100:.2f}%\")\n",
    "\n",
    "# Generate and display the confusion matrix\n",
    "cm = confusion_matrix(y_test_class, y_pred_class)\n",
    "disp = ConfusionMatrixDisplay(confusion_matrix=cm, display_labels=[0, 1])\n",
    "disp.plot()\n",
    "\n"
   ]
  },
  {
   "cell_type": "code",
   "execution_count": 31,
   "id": "7590249c-19b6-4b6d-83d8-2d4d3c41081f",
   "metadata": {},
   "outputs": [
    {
     "name": "stdout",
     "output_type": "stream",
     "text": [
      "X_train shape: (70, 10)\n",
      "y_train shape: (70,)\n",
      "X_test shape: (30, 10)\n",
      "y_test shape: (30,)\n",
      "Unique values in y_train_class: [0 1]\n",
      "Unique values in y_test_class: [0 1]\n",
      "Classification Accuracy: 60.00%\n"
     ]
    },
    {
     "data": {
      "text/plain": [
       "<sklearn.metrics._plot.confusion_matrix.ConfusionMatrixDisplay at 0x2b86cab1d10>"
      ]
     },
     "execution_count": 31,
     "metadata": {},
     "output_type": "execute_result"
    },
    {
     "data": {
      "image/png": "[encoded data removed]",
      "text/plain": [
       "<Figure size 640x480 with 2 Axes>"
      ]
     },
     "metadata": {},
     "output_type": "display_data"
    }
   ],
   "source": [
    "import numpy as np\n",
    "from sklearn.svm import SVC\n",
    "from sklearn.model_selection import train_test_split\n",
    "from sklearn.metrics import accuracy_score, confusion_matrix, ConfusionMatrixDisplay\n",
    "\n",
    "# Example continuous labels (replace with your actual dataset)\n",
    "y = np.random.rand(100)  # Example continuous labels\n",
    "X = np.random.rand(100, 10)  # Example features (100 samples, 10 features)\n",
    "\n",
    "# Split the dataset into train and test sets\n",
    "X_train, X_test, y_train, y_test = train_test_split(X, y, test_size=0.3, random_state=42)\n",
    "\n",
    "# Check the shapes of your data to ensure they are aligned\n",
    "print(f\"X_train shape: {X_train.shape}\")\n",
    "print(f\"y_train shape: {y_train.shape}\")\n",
    "print(f\"X_test shape: {X_test.shape}\")\n",
    "print(f\"y_test shape: {y_test.shape}\")\n",
    "\n",
    "# Convert continuous labels to binary classes (0 or 1) using thresholding at the median\n",
    "y_train_class = np.where(y_train > np.median(y_train), 1, 0)\n",
    "y_test_class = np.where(y_test > np.median(y_test), 1, 0)\n",
    "\n",
    "# Check the unique values of the labels to ensure they are 0 or 1\n",
    "print(f\"Unique values in y_train_class: {np.unique(y_train_class)}\")\n",
    "print(f\"Unique values in y_test_class: {np.unique(y_test_class)}\")\n",
    "\n",
    "# Initialize the classifier\n",
    "clf = SVC(kernel='linear', random_state=42)\n",
    "\n",
    "# Train the classifier with binary labels\n",
    "clf.fit(X_train, y_train_class)\n",
    "\n",
    "# Perform predictions on the test set\n",
    "y_pred_class = clf.predict(X_test)\n",
    "\n",
    "# Calculate accuracy\n",
    "accuracy = accuracy_score(y_test_class, y_pred_class)\n",
    "print(f\"Classification Accuracy: {accuracy * 100:.2f}%\")\n",
    "\n",
    "# Generate and display the confusion matrix\n",
    "cm = confusion_matrix(y_test_class, y_pred_class)\n",
    "disp = ConfusionMatrixDisplay(confusion_matrix=cm, display_labels=[0, 1])\n",
    "disp.plot()\n",
    "\n"
   ]
  },
  {
   "cell_type": "code",
   "execution_count": 32,
   "id": "a0f746e4-7e7f-46ae-95cb-59a047fbccd7",
   "metadata": {},
   "outputs": [
    {
     "name": "stdout",
     "output_type": "stream",
     "text": [
      "X_train shape: (70, 10)\n",
      "y_train shape: (70,)\n",
      "X_test shape: (30, 10)\n",
      "y_test shape: (30,)\n",
      "Unique values in y_train_class: [0 1]\n",
      "Unique values in y_test_class: [0 1]\n",
      "Classification Accuracy: 50.00%\n"
     ]
    },
    {
     "data": {
      "text/plain": [
       "<sklearn.metrics._plot.confusion_matrix.ConfusionMatrixDisplay at 0x2b86c701490>"
      ]
     },
     "execution_count": 32,
     "metadata": {},
     "output_type": "execute_result"
    },
    {
     "data": {
      "image/png": "[encoded data removed]",
      "text/plain": [
       "<Figure size 640x480 with 2 Axes>"
      ]
     },
     "metadata": {},
     "output_type": "display_data"
    }
   ],
   "source": [
    "import numpy as np\n",
    "from sklearn.svm import SVC\n",
    "from sklearn.model_selection import train_test_split\n",
    "from sklearn.metrics import accuracy_score, confusion_matrix, ConfusionMatrixDisplay\n",
    "\n",
    "# Example continuous labels (replace with your actual dataset)\n",
    "y = np.random.rand(100)  # Example continuous labels\n",
    "X = np.random.rand(100, 10)  # Example features (100 samples, 10 features)\n",
    "\n",
    "# Split the dataset into train and test sets\n",
    "X_train, X_test, y_train, y_test = train_test_split(X, y, test_size=0.3, random_state=42)\n",
    "\n",
    "# Check the shapes of your data to ensure they are aligned\n",
    "print(f\"X_train shape: {X_train.shape}\")\n",
    "print(f\"y_train shape: {y_train.shape}\")\n",
    "print(f\"X_test shape: {X_test.shape}\")\n",
    "print(f\"y_test shape: {y_test.shape}\")\n",
    "\n",
    "# Convert continuous labels to binary classes (0 or 1) using thresholding at the median\n",
    "y_train_class = np.where(y_train > np.median(y_train), 1, 0)\n",
    "y_test_class = np.where(y_test > np.median(y_test), 1, 0)\n",
    "\n",
    "# Check the unique values of the labels to ensure they are 0 or 1\n",
    "print(f\"Unique values in y_train_class: {np.unique(y_train_class)}\")\n",
    "print(f\"Unique values in y_test_class: {np.unique(y_test_class)}\")\n",
    "\n",
    "# Initialize the classifier\n",
    "clf = SVC(kernel='linear', random_state=42)\n",
    "\n",
    "# Train the classifier with binary labels\n",
    "clf.fit(X_train, y_train_class)\n",
    "\n",
    "# Perform predictions on the test set\n",
    "y_pred_class = clf.predict(X_test)\n",
    "\n",
    "# Calculate accuracy\n",
    "accuracy = accuracy_score(y_test_class, y_pred_class)\n",
    "print(f\"Classification Accuracy: {accuracy * 100:.2f}%\")\n",
    "\n",
    "# Generate and display the confusion matrix\n",
    "cm = confusion_matrix(y_test_class, y_pred_class)\n",
    "disp = ConfusionMatrixDisplay(confusion_matrix=cm, display_labels=[0, 1])\n",
    "disp.plot()\n",
    "\n"
   ]
  },
  {
   "cell_type": "code",
   "execution_count": 33,
   "id": "d0faf5a2-0b16-4764-a532-6e1b2002e315",
   "metadata": {},
   "outputs": [
    {
     "name": "stdout",
     "output_type": "stream",
     "text": [
      "X_train shape: (70, 10)\n",
      "y_train shape: (70,)\n",
      "X_test shape: (30, 10)\n",
      "y_test shape: (30,)\n",
      "Unique values in y_train_class: [0 1]\n",
      "Unique values in y_test_class: [0 1]\n",
      "Classification Accuracy: 40.00%\n"
     ]
    },
    {
     "data": {
      "text/plain": [
       "<sklearn.metrics._plot.confusion_matrix.ConfusionMatrixDisplay at 0x2b86c97db50>"
      ]
     },
     "execution_count": 33,
     "metadata": {},
     "output_type": "execute_result"
    },
    {
     "data": {
      "image/png": "[encoded data removed]",
      "text/plain": [
       "<Figure size 640x480 with 2 Axes>"
      ]
     },
     "metadata": {},
     "output_type": "display_data"
    }
   ],
   "source": [
    "import numpy as np\n",
    "from sklearn.svm import SVC\n",
    "from sklearn.model_selection import train_test_split\n",
    "from sklearn.metrics import accuracy_score, confusion_matrix, ConfusionMatrixDisplay\n",
    "\n",
    "# Example continuous labels (replace with your actual dataset)\n",
    "y = np.random.rand(100)  # Example continuous labels\n",
    "X = np.random.rand(100, 10)  # Example features (100 samples, 10 features)\n",
    "\n",
    "# Split the dataset into train and test sets\n",
    "X_train, X_test, y_train, y_test = train_test_split(X, y, test_size=0.3, random_state=42)\n",
    "\n",
    "# Check the shapes of your data to ensure they are aligned\n",
    "print(f\"X_train shape: {X_train.shape}\")\n",
    "print(f\"y_train shape: {y_train.shape}\")\n",
    "print(f\"X_test shape: {X_test.shape}\")\n",
    "print(f\"y_test shape: {y_test.shape}\")\n",
    "\n",
    "# Convert continuous labels to binary classes (0 or 1) using thresholding at the median\n",
    "y_train_class = np.where(y_train > np.median(y_train), 1, 0)\n",
    "y_test_class = np.where(y_test > np.median(y_test), 1, 0)\n",
    "\n",
    "# Check the unique values of the labels to ensure they are 0 or 1\n",
    "print(f\"Unique values in y_train_class: {np.unique(y_train_class)}\")\n",
    "print(f\"Unique values in y_test_class: {np.unique(y_test_class)}\")\n",
    "\n",
    "# Initialize the classifier\n",
    "clf = SVC(kernel='linear', random_state=42)\n",
    "\n",
    "# Train the classifier with binary labels\n",
    "clf.fit(X_train, y_train_class)\n",
    "\n",
    "# Perform predictions on the test set\n",
    "y_pred_class = clf.predict(X_test)\n",
    "\n",
    "# Calculate accuracy\n",
    "accuracy = accuracy_score(y_test_class, y_pred_class)\n",
    "print(f\"Classification Accuracy: {accuracy * 100:.2f}%\")\n",
    "\n",
    "# Generate and display the confusion matrix\n",
    "cm = confusion_matrix(y_test_class, y_pred_class)\n",
    "disp = ConfusionMatrixDisplay(confusion_matrix=cm, display_labels=[0, 1])\n",
    "disp.plot()\n",
    "\n"
   ]
  },
  {
   "cell_type": "code",
   "execution_count": 34,
   "id": "233b0158-b5d7-4ec9-a1c5-d37becdfde48",
   "metadata": {},
   "outputs": [
    {
     "name": "stdout",
     "output_type": "stream",
     "text": [
      "Random Forest True Accuracy: 56.67%\n",
      "Random Forest Bootstrapping Test P-value: 0.2750\n"
     ]
    },
    {
     "data": {
      "text/plain": [
       "<sklearn.metrics._plot.confusion_matrix.ConfusionMatrixDisplay at 0x2b86af746d0>"
      ]
     },
     "execution_count": 34,
     "metadata": {},
     "output_type": "execute_result"
    },
    {
     "data": {
      "image/png": "[encoded data removed]",
      "text/plain": [
       "<Figure size 640x480 with 2 Axes>"
      ]
     },
     "metadata": {},
     "output_type": "display_data"
    }
   ],
   "source": [
    "import numpy as np\n",
    "from sklearn.utils import shuffle\n",
    "from sklearn.ensemble import RandomForestClassifier\n",
    "from sklearn.metrics import accuracy_score, confusion_matrix, ConfusionMatrixDisplay\n",
    "from sklearn.model_selection import train_test_split\n",
    "\n",
    "# Example continuous labels (replace with your actual dataset)\n",
    "y = np.random.rand(100)  # Example continuous labels\n",
    "X = np.random.rand(100, 10)  # Example features (100 samples, 10 features)\n",
    "\n",
    "# Convert continuous labels to binary classes (0 or 1) using thresholding at the median\n",
    "y_binned = np.where(y > np.median(y), 1, 0)\n",
    "\n",
    "# Split the dataset into train and test sets\n",
    "X_train, X_test, y_train, y_test = train_test_split(X, y_binned, test_size=0.3, random_state=42)\n",
    "\n",
    "# Initialize the Random Forest classifier\n",
    "rf_clf = RandomForestClassifier(n_estimators=100, random_state=42)\n",
    "\n",
    "# Train the Random Forest classifier with original labels\n",
    "rf_clf.fit(X_train, y_train)\n",
    "\n",
    "# Make predictions and calculate the true accuracy for RF\n",
    "y_pred_rf = rf_clf.predict(X_test)\n",
    "true_accuracy_rf = accuracy_score(y_test, y_pred_rf)\n",
    "\n",
    "# Number of iterations for bootstrapping\n",
    "n_iterations = 1000\n",
    "\n",
    "# Store accuracies for bootstrapped labels\n",
    "bootstrapped_accuracies_rf = []\n",
    "\n",
    "for i in range(n_iterations):\n",
    "    # Shuffle the target labels for training and testing\n",
    "    y_train_permuted = shuffle(y_train, random_state=i)\n",
    "    y_test_permuted = shuffle(y_test, random_state=i)\n",
    "\n",
    "    # Train the classifier on bootstrapped data\n",
    "    rf_clf.fit(X_train, y_train_permuted)\n",
    "    y_pred_permuted_rf = rf_clf.predict(X_test)\n",
    "\n",
    "    # Calculate accuracy for bootstrapped labels\n",
    "    bootstrapped_accuracy_rf = accuracy_score(y_test_permuted, y_pred_permuted_rf)\n",
    "    bootstrapped_accuracies_rf.append(bootstrapped_accuracy_rf)\n",
    "\n",
    "# Calculate the p-value by comparing true accuracy with bootstrapped accuracies for RF\n",
    "bootstrapped_accuracies_rf = np.array(bootstrapped_accuracies_rf)\n",
    "p_value_rf = np.mean(bootstrapped_accuracies_rf >= true_accuracy_rf)\n",
    "\n",
    "# Output the results for Random Forest\n",
    "print(f\"Random Forest True Accuracy: {true_accuracy_rf * 100:.2f}%\")\n",
    "print(f\"Random Forest Bootstrapping Test P-value: {p_value_rf:.4f}\")\n",
    "\n",
    "# Generate and display confusion matrix for Random Forest\n",
    "cm_rf = confusion_matrix(y_test, y_pred_rf)\n",
    "disp_rf = ConfusionMatrixDisplay(confusion_matrix=cm_rf, display_labels=np.unique(y_train))\n",
    "disp_rf.plot()\n",
    "\n",
    "# Compare with previous SVM results (Assuming you already have SVM results)\n",
    "# You can manually compare this output with your previous SVM results (true accuracy, p-value, confusion matrix).\n"
   ]
  },
  {
   "cell_type": "code",
   "execution_count": null,
   "id": "b3de675d-7af6-4030-a59f-6674f36fa5cb",
   "metadata": {},
   "outputs": [],
   "source": []
  }
 ],
 "metadata": {
  "kernelspec": {
   "display_name": "Python 3 (ipykernel)",
   "language": "python",
   "name": "python3"
  },
  "language_info": {
   "codemirror_mode": {
    "name": "ipython",
    "version": 3
   },
   "file_extension": ".py",
   "mimetype": "text/x-python",
   "name": "python",
   "nbconvert_exporter": "python",
   "pygments_lexer": "ipython3",
   "version": "3.11.3"
  }
 },
 "nbformat": 4,
 "nbformat_minor": 5
}
